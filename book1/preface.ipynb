{
 "cells": [
  {
   "cell_type": "code",
   "execution_count": null,
   "id": "initial_id",
   "metadata": {
    "collapsed": true
   },
   "outputs": [],
   "source": [
    ""
   ]
  },
  {
   "metadata": {},
   "cell_type": "markdown",
   "source": [
    "下面内容摘自，https://zhuanlan.zhihu.com/p/20112023\n",
    "\n",
    "“无法衡量，就无法进步”\n",
    "\n",
    "Zynga的前GM Nike Vuori举了一个Ville的游戏做例子(FarmVille, FrontierVille,etc)。在这些游戏中，玩家可以通过搜集不同的元件来建造最终产品：一个房屋，一辆车或一座公园。这些产品被称为Buildables. 玩家有两种方式可以获得这些元件，一是从facebook上的朋友那里，二是从游戏中直接购买。数据显示，用户并不会为了取得一点进展而购买这些元件，但是他们会为了完成一个Buildable而购买。换句话说，为了一个需要10个元件的车，用户会为第9和第10个元件付钱，但是不会为了1到8付钱，而这1到8可以从朋友处搜集过来\n",
    "\n",
    "基于这个观察，Zynga优化了他们的盈利模式(monetization)：他们设计了那些需要元件数量刚好超过朋友圈可以拿到的总量一点点的Buildable。这样，一个玩家可以从朋友那拿到大部分的元件，但是基本不可能从朋友那拿到所有的元件。但是他是那样的接近完成一个Buildable，所以他会愿意购买那最后的一、两个元件。\n",
    "\n",
    "在这篇博客中，我们会看一下Zynga在游戏研发中对数据分析的应用，看看他们是如何发现类似上述的观察。这家公司建立了自己的数据埋点(data tracking)架构-dubbed Ztrack,这在当时属于非常先进的很多人闻所未闻的解决方案。Zynga用这些数据来优化和提高他们的游戏。正如Zynga的前VP of Analytics Ken Rudin被广泛引用的一句话总结的“Zynga其实是一个伪装成游戏公司的数据分析公司”。\n"
   ],
   "id": "f41fd1039dcd575"
  },
  {
   "metadata": {},
   "cell_type": "code",
   "outputs": [],
   "execution_count": null,
   "source": "",
   "id": "d310a78357bcd670"
  },
  {
   "metadata": {},
   "cell_type": "markdown",
   "source": [
    "当大多数公司都还专注于pageview（页面访问量）为中心的网页分析时，Zynga建立了自己的内部分析平台ZTrack。 Pageview(页面访问量)对于测量impression(显示)和提高广告营收是十分重要的，但是，当企业的盈利模型由广告营收慢慢转向用户付费时，pageview就不再那么重要了。一些像Zynga一样成熟的公司就开始追踪网站上不同产品（游戏）的用户行为\n",
    "\n",
    "一个Metrics(指标)导向的公司文化\n",
    "\n",
    "据Zynga的创始团队成员之一Andrew Trader的介绍，Zynga最重要的企业文化是其对于Metrics(指标)的重视。在Zynga刚开始的年代，鲜有游戏创作室会追踪他们的玩家的各种数据，大部分游戏设计都还只是凭着设计者的直觉和用户的反馈。\n",
    "\n",
    "从一开始，Zynga就和其他的游戏公司不一样，它雇佣的产品经理大多来自于财务或者咨询背景，这部分人都非常习惯用分析法来解决问题。公司推崇的是数据透明(data transparency)。从软件工程师，到产品经理，到CEO都参与到指标的建立和维护中。\n",
    "\n",
    "Zynga的高管强调了艺术和科学必须完美结合。在这里艺术是指能够创造绝妙的游戏创意的能力；而科学是指理论化的测试出这个创意是否很棒的能力。下面这一页PPT来自于Zynga的前VP of Analytics Ken Rudin在2010年的一次讲座。\n"
   ],
   "id": "afadf8dd48ada64f"
  },
  {
   "metadata": {},
   "cell_type": "markdown",
   "source": "数据分析注重的是结果转化，理论和知识最终服务于方案和最终效果\n",
   "id": "ceb99361836daf58"
  }
 ],
 "metadata": {
  "kernelspec": {
   "display_name": "Python 3",
   "language": "python",
   "name": "python3"
  },
  "language_info": {
   "codemirror_mode": {
    "name": "ipython",
    "version": 2
   },
   "file_extension": ".py",
   "mimetype": "text/x-python",
   "name": "python",
   "nbconvert_exporter": "python",
   "pygments_lexer": "ipython2",
   "version": "2.7.6"
  }
 },
 "nbformat": 4,
 "nbformat_minor": 5
}
