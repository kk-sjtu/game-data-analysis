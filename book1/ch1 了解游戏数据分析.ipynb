{
 "cells": [
  {
   "cell_type": "code",
   "execution_count": null,
   "id": "initial_id",
   "metadata": {
    "collapsed": true
   },
   "outputs": [],
   "source": [
    ""
   ]
  },
  {
   "metadata": {},
   "cell_type": "markdown",
   "source": "注重产品的设计，体验，运营和用户获取",
   "id": "cbc31884ddee9461"
  },
  {
   "metadata": {},
   "cell_type": "markdown",
   "source": [
    "## 1.1 游戏数据分析的概念\n",
    "厂商：talkingdata的game analytics；kontagent，localytics\n",
    "\n",
    "游戏数据分析是指通过对游戏数据的收集、整理、分析、挖掘，为游戏的设计、运营、推广等提供数据支持和决策依据的过程。\n"
   ],
   "id": "36a5e2721dc3dae9"
  },
  {
   "metadata": {},
   "cell_type": "markdown",
   "source": [
    "## 1.2 游戏数据分析的意义\n",
    "\n",
    "公司角度看游戏数据分析面临的两大问题：1.数据开放能力 2. 跨部门协作能力\n",
    "\n",
    "“多数数据分析师沦为制作数据报表的机器”"
   ],
   "id": "aacb0e66d30080dd"
  },
  {
   "metadata": {},
   "cell_type": "markdown",
   "source": [
    "## 1.3 游戏数据分析的流程\n",
    "\n",
    "方法论：PRARA，AARRR\n",
    "\n",
    "1. 业务需求，数据埋点\n",
    "2. 指标体系\n",
    "3. 数据加工\n",
    "\n",
    "业务理解和技术沟通。数据采集需要解决数据的发送机制，采集内容和存储方式\n",
    "计算层级，需要实时计算。数据加工的目的，就是把数据转化为可用的信息。\n",
    "\n",
    "4. 统计分析\n",
    "分析师最大的一个要求就是理解每一个方法背后的原则、范围和思想。指标所代表的不只是一个计算方法，而是最初诞生时，为了解决某一类问题而设计的解决方法。\n",
    "数据分析本身是为了辅助决策。\n",
    "\n",
    "数据分析环节有80%以上时间是在整理数据。"
   ],
   "id": "b71cca311a71e284"
  },
  {
   "metadata": {},
   "cell_type": "markdown",
   "source": [
    "几个接口的例子，\n",
    "1. 游戏启动和关闭。准确追踪用户的游戏次数，游戏时长和初识渠道\n",
    "2. 统计用户账户，用来定义一个玩家的属性信息。性别，级别，，姓名，年龄，区服\n",
    "3. 跟踪用户充值，跟踪用户的充值行为，充值金额，充值时间，充值渠道，充入现金反映到游戏收入中\n",
    "4. 跟踪用户消费点。如购买道具，VIP服务\n",
    "5. 任务关卡或副本，跟踪玩家任务，关卡和副本情况\n",
    "6. 任务自定义，例如功能按钮的单击，填写输入框，广告点击触发情况"
   ],
   "id": "de718ed5081e5d09"
  },
  {
   "metadata": {},
   "cell_type": "code",
   "outputs": [],
   "execution_count": null,
   "source": [
    "分析结果体现不了价值，最终要和业务结合，如何运用结果最为重要。\n",
    "获取用户与经营用户，最为重要。\n",
    "\n",
    "DSP,SSP,DMP,RTB等概念。广告投放\n",
    "\n",
    "“实际上分析结果本身并没有价值，如何活用分析结果，最终得到的价值也是不同的”"
   ],
   "id": "d84e1e4ca400aea0"
  },
  {
   "metadata": {},
   "cell_type": "markdown",
   "source": [
    "根据设备、地域、渠道、游戏行为、付费行为等方面更加准确和快速地对目标用户进行营销。\n",
    "\n",
    "如果一款游戏，活跃用户连续3天不进入游戏，则从游戏中流失的概率增加10%，此时需要精准定位这样的群体，进行目标用户的营销和召回。"
   ],
   "id": "d7e218d58fbe6219"
  },
  {
   "metadata": {},
   "cell_type": "markdown",
   "source": [
    "## 分析师的任务\n",
    "\n",
    "免费，长尾理论\n",
    "\n",
    "1. 专业数据解读。面向业务，\n",
    "\n",
    "用户规模，收益能力，营销效果\n",
    "\n",
    "2. 数据分析探索\n"
   ],
   "id": "6eb164e989553bde"
  }
 ],
 "metadata": {
  "kernelspec": {
   "display_name": "Python 3",
   "language": "python",
   "name": "python3"
  },
  "language_info": {
   "codemirror_mode": {
    "name": "ipython",
    "version": 2
   },
   "file_extension": ".py",
   "mimetype": "text/x-python",
   "name": "python",
   "nbconvert_exporter": "python",
   "pygments_lexer": "ipython2",
   "version": "2.7.6"
  }
 },
 "nbformat": 4,
 "nbformat_minor": 5
}
